{
 "cells": [
  {
   "cell_type": "code",
   "execution_count": 1,
   "metadata": {},
   "outputs": [],
   "source": [
    "import pandas as pd\n",
    "import numpy as np\n",
    "import re"
   ]
  },
  {
   "cell_type": "markdown",
   "metadata": {},
   "source": [
    "### Reading file and printing relevant information"
   ]
  },
  {
   "cell_type": "code",
   "execution_count": 2,
   "metadata": {},
   "outputs": [],
   "source": [
    "file = 'all_data.txt'"
   ]
  },
  {
   "cell_type": "code",
   "execution_count": 3,
   "metadata": {},
   "outputs": [
    {
     "name": "stdout",
     "output_type": "stream",
     "text": [
      "21075\n",
      "<class 'list'>\n",
      "[\" © Evan Agostini Fashion From freshly-crowned Miss World to 17 years of Cannes Film Festival, we chart all the changes in Aishwarya Rai Bachchan’s sartorial journey Often referred to as one of the most beautiful women in the world, Aishwarya Rai Bachchan has long held a prime position under the spotlight since the very inception of her career. She made global news by winning the Miss World title in 1994. Till date, those who grew up in the ’90s will never forget the image of Rai [Bachchan], ecstatic, holding her blue crown. Following which, the actor has over forty Bollywood, international and regional movies under her belt. And the superstar’s 17-year-long association with Cannes Film Festival comes with headline-making sartorial choices every year. Hits, misses, and some iconic looks, we track Aishwarya Rai Bachchan’s memorable fashion moments. Aishwarya Rai Bachchan started off with a few modelling stints but made her big silver screen debut in Iruvar (1997). Through her career she has starred in notable films like Hum Dil De Chuke Sanam (1999), Taal (1999), Mohabbatein (2000), Devdas (2002), Bride & Prejudice (2004), Dhoom 2 (2006), Guru (2007), Jodhaa Akbar (2008), The Pink Panther 2 (2009), Raavan and Guzaarish in 2010. The star took a break from acting only to return to the big screen with films like Sarbjit (2016), Ae Dil Hai Mushkil (2016) and Fanney Khan (2018). It’s no surprise that each time Rai Bachchan steps out, fashion lovers take note of the actor’s choice. No stranger to the international red carpets, the star has been a regular at Cannes favouring slinky cocktail dresses, trailing gowns and saris. For her debut appearance, the actor chose saris in bold colours (cue the 2003 Neeta Lulla number) and then moved on to luxe satin and beaded gowns. In 2007, the newly-wed posed on the red carpet with husband Abhishek Bachchan which made headlines. Over the years, she has supported Indian designers like Sabyasachi and Abu Jani Sandeep Khosla. Her other notable sartorial choices have been looks by designer labels Elie Saab, Gucci, Oscar de la Renta, Armani Privé, Ralph & Russo. Her ice blue, full-skirted number by Michael Cinco seen at Cannes 2017 was one of the most sought-after looks. Back home, she prefers traditional choices of elaborate anarkalis and lehengas for family functions, Diwali parties and award shows. Lately, Rai Bachchan has been colour-coordinating with her daughter Aaradhya—most notably in pink dresses at the latter’s birthday party in two years ago and at this year’s Cannes Film Festival in bright yellow. If you are keeping track of the staples in Rai Bachchan’s wardrobe, you’ll find long Indian jackets over anarkalis, skinny pants + blazer combos at the airport, and bold lehengas for weddings. However, when Rai Bachchan does decide to make a statement, she ensures the world takes note. As her stylist Aastha Sharma spoke in a recent interview, “Aishwarya has her own personality, she has been an icon for years, she is always appropriately dressed so it's very easy for me as a stylist. Back home, she favours Indian designers, on the red carpet, we go all out because she is representing a brand and herself—it's almost a form of art.” Scroll ahead for our gallery of Aishwarya Rai Bachchan’s most memorable looks. Aishwarya Rai Bachchan, 1994 © Getty Aishwarya Rai Bachchan, 2002 © Getty Aishwarya Rai Bachchan in Neeta Lulla, 2003 © Getty Aishwarya Rai Bachchan, 2003 © Getty Aishwarya Rai Bachchan, 2003 © Getty Aishwarya Rai Bachchan in Neeta Lulla, 2004 © Getty Aishwarya Rai Bachchan, 2007 © Getty Aishwarya Rai Bachchan, 2007 © Getty Aishwarya Rai Bachchan, 2007 © Getty Aishwarya Rai Bachchan, 2009 © Getty Aishwarya Rai Bachchan in Roberto Cavalli, 2009 © Getty Aishwarya Rai Bachchan in Elie Saab, 2010 © Getty Aishwarya Rai Bachchan in Sabyasachi, 2010 © Getty Aishwarya Rai Bachchan in Abu Jani Sandeep Khosla, 2012 © Getty Aishwarya Rai Bachchan in Gucci, 2013 © Getty Aishwarya Rai Bachchan in Roberto Cavalli, 2014 © Getty Aishwarya Rai Bachchan in Sabyasachi, 2015 © Getty Aishwarya Rai Bachchan, 2015 © Manav Manglani Aishwarya Rai Bachchan in Elie Saab, 2016 © Getty Aishwarya Rai Bachchan in Rani Kadi, 2016 © Getty Aishwarya Rai Bachchan, 2016 © Viral Bhayani Aishwarya Rai Bachchan, 2016 © Viral Bhayani Aishwarya Rai Bachchan, 2016 © Viral Bhayani Aishwarya Rai Bachchan, 2016 © Viral Bhayani Aishwarya Rai Bachchan, 2016 © Viral Bhayani Aishwarya Rai Bachchan, 2016 © Viral Bhayani Aishwarya Rai Bachchan, 2016 © Viral Bhayani Aishwarya Rai Bachchan, 2016 © Viral Bhayani Aishwarya Rai Bachchan, 2017 © Getty Aishwarya Rai Bachchan, 2017 © Viral Bhayani Aishwarya Rai Bachchan, 2017 © Viral Bhayani Aishwarya Rai Bachchan, 2017 © Viral Bhayani Aishwarya Rai Bachchan, 2017 © Viral Bhayani Aishwarya Rai Bachchan, 2017 © Viral Bhayani Aishwarya Rai Bachchan, 2017 © Viral Bhayani Aishwarya Rai Bachchan, 2017 © Viral Bhayani Aishwarya Rai Bachchan, 2017 © Viral Bhayani Aishwarya Rai Bachchan, 2018 © Getty Aishwarya Rai Bachchan, 2018 © Viral Bhayani Aishwarya Rai Bachchan, 2018 © Viral Bhayani Aishwarya Rai Bachchan, 2018 © Viral Bhayani Aishwarya Rai Bachchan, 2018 © Viral Bhayani Aishwarya Rai Bachchan, 2018 © Viral Bhayani Aishwarya Rai Bachchan in Masaba, 2018 © Viral Bhayani Aishwarya Rai Bachchan, 2018 © Viral Bhayani Aishwarya Rai Bachchan, 2018 © Viral Bhayani Aishwarya Rai Bachchan, 2018 © Viral Bhayani Aishwarya Rai Bachchan, 2019 © Getty Aishwarya Rai Bachchan, 2019 © Getty Aishwarya Rai Bachchan, 2019 © Getty Aishwarya Rai Bachchan in Manish Malhotra, 2019 © Viral Bhayani Aishwarya Rai Bachchan, 2019 © Viral Bhayani Aishwarya Rai Bachchan, 2019 © Viral Bhayani Aishwarya Rai Bachchan in Nedo, 2019 © Instagram/aishwaryaraibachchan_arb Aishwarya Rai Bachchan, 2019 © Viral Bhayani Aishwarya Rai Bachchan, 2019 © Instagram/aishwaryaraibachchan_arb What's New Fashion Culture & Living © 2019 Condé Nast\\n\", \" © Instagram.com/mira.kapoor Fashion From Deepika Padukone and to Katrina Kaif to Kriti Sanon, everyone is crushing on this style of six yard drape. What about you? Timeless saris to hold a special place in every woman's Indian ethnic wardrobe, and are often one of the first sartorial picks for any occasion. But take a peek into the closets of India's best dressed women, and you'll notice that there's a new, playful avatar of the six yard drape that seems to quickly be gaining in popularity. Fuss-free and modern, the ruffled sari ensures maximum impact with minimum effort. Don't go thinking that ruffled saris all come in the same silhouette. While some feature OTT details on just the pallu, others add a touch of ruffle along their entire hemline, and then there are those which come with theatrical ruffled blouses too. Here's a look at how some of your favourite stars are wearing this fun festive look. Still on the fence about working prints for a festive occasion? Allow Alia Bhatt and Kriti Sanon to inspire you to take the plunge. While the former wore a printed green Sabyasachi sari with a ruffled border for the designer’s 20-year celebration, the latter promoted Arjun Patiala in a floral red drape by Arpita Mehta that featured a playful ruffled border, a signature of the designer’s aesthetic. Those looking to create a statement with bold hues can turn to Deepika Padukone and Sonakshi Sinha for ideas. Earlier this year, Padukone was seen embracing a bold acid yellow hue with a ruffled sari that she teamed with a pussy bow blouse, whereas Sinha went all out with a red drape. Mira Rajput Kapoor has been quick to give this trend a test run. For Anil Kapoor’s Diwali party, she topped trending charts in her pastel blue Jade By Monica and Karishma ruffled sari, which she draped over a bejewelled blouse. Just weeks later, the mom-of-two attended Arjun Kothari's pre-wedding celebration at the Ambani residence in another sari look that championed romantic ruffles. This time around, Rajput Kapoor chose a dusky rose Manish Malhotra sari with tiny ruffles along its border, and paired it with a halter blouse doused in large tissue ruffles. Mira Rajput Kapoor Given that the coming months are only going to get chillier, Katrina Kaif's ruffled sari is one you must check out. The actor topped her ivory Anamika Khanna sari at Thugs of Hindostan promotions with a full-length, sleeveless, sequinned jacket. And then there was Shilpa Shetty Kundra, who's never shied away from trying not-so-basic versions of the humble sari. While the star has stepped out in ruffled saris on more than just a few occasions, her sheer, sculpted Amit Aggarwal deserves a special mention for its unconventional cut. Worn with a halter blouse, this pre-stitched number replaced traditional pleats with cascading ruffles instead, to create a party-ready hybrid that's bound to stand out in a crowd. Need more inspiration for the wedding season? Here are some of our favourite ruffled saris of late. Katrina Kaif © Viral Bhayani Shweta Bachchan Nanda © Viral Bhayani 11 contemporary saris for when your want to give your Benarasi collection a break The best saris seen on the runways at India Couture Week 2019 13 contemporary summer saris every millennial needs to bookmark Fashion Fashion Fashion © 2019 Condé Nast\\n\"]\n"
     ]
    }
   ],
   "source": [
    "with open(file) as f:\n",
    "    text = f.readlines()\n",
    "print(len(text))\n",
    "print(type(text))\n",
    "print(text[:2])"
   ]
  },
  {
   "cell_type": "markdown",
   "metadata": {},
   "source": [
    "### Removing copyright symbols"
   ]
  },
  {
   "cell_type": "code",
   "execution_count": 4,
   "metadata": {},
   "outputs": [],
   "source": [
    "copyright = \"©\"\n",
    "copyClean = []\n",
    "for i in text:\n",
    "    text2 = re.sub(copyright,\"\",i)\n",
    "    copyClean.append(text2)"
   ]
  },
  {
   "cell_type": "markdown",
   "metadata": {},
   "source": [
    "### Copyright symbols removed"
   ]
  },
  {
   "cell_type": "code",
   "execution_count": 5,
   "metadata": {},
   "outputs": [
    {
     "name": "stdout",
     "output_type": "stream",
     "text": [
      "21075\n"
     ]
    }
   ],
   "source": [
    "print(len(copyClean))"
   ]
  },
  {
   "cell_type": "markdown",
   "metadata": {},
   "source": [
    "### Converting every token to lowercase"
   ]
  },
  {
   "cell_type": "code",
   "execution_count": 6,
   "metadata": {},
   "outputs": [],
   "source": [
    "dataLower = map(lambda x:x.lower(),copyClean)"
   ]
  },
  {
   "cell_type": "code",
   "execution_count": 7,
   "metadata": {},
   "outputs": [],
   "source": [
    "lowerCase = []\n",
    "for i in dataLower:\n",
    "    lowerCase.append(i)"
   ]
  },
  {
   "cell_type": "code",
   "execution_count": 8,
   "metadata": {},
   "outputs": [
    {
     "name": "stdout",
     "output_type": "stream",
     "text": [
      "21075\n",
      "  instagram.com/mira.kapoor fashion from deepika padukone and to katrina kaif to kriti sanon, everyo\n",
      "<class 'list'>\n"
     ]
    }
   ],
   "source": [
    "print(len(lowerCase))\n",
    "print(lowerCase[1][:100])\n",
    "print(type(lowerCase))"
   ]
  },
  {
   "cell_type": "markdown",
   "metadata": {},
   "source": [
    "### Removing special characters"
   ]
  },
  {
   "cell_type": "code",
   "execution_count": 30,
   "metadata": {},
   "outputs": [],
   "source": [
    "specialCharRem = []\n",
    "for i in lowerCase:\n",
    "    specialChar = re.sub(r\"[^a-zA-Z0-9.]+\", ' ', i)\n",
    "    specialCharRem.append(specialChar)\n",
    "    \n"
   ]
  },
  {
   "cell_type": "code",
   "execution_count": 31,
   "metadata": {},
   "outputs": [
    {
     "name": "stdout",
     "output_type": "stream",
     "text": [
      "21075\n"
     ]
    }
   ],
   "source": [
    "print(len(specialCharRem))"
   ]
  },
  {
   "cell_type": "code",
   "execution_count": 32,
   "metadata": {},
   "outputs": [
    {
     "name": "stdout",
     "output_type": "stream",
     "text": [
      " evan agostini fashion from freshly crowned miss world to 17 years of cannes film festival we chart all the changes in aishwarya rai bachchan s sartorial journey often referred to as one of the most beautiful women in the world aishwarya rai bachchan has long held a prime position under the spotlight since the very inception of her career. she made global news by winning the miss world title in 1994. till date those who grew up in the 90s will never forget the image of rai bachchan ecstatic holding her blue crown. following which the actor has over forty bollywood international and regional movies under her belt. and the superstar s 17 year long association with cannes film festival comes with headline making sartorial choices every year. hits misses and some iconic looks we track aishwarya rai bachchan s memorable fashion moments. aishwarya rai bachchan started off with a few modelling stints but made her big silver screen debut in iruvar 1997 . through her career she has starred in notable films like hum dil de chuke sanam 1999 taal 1999 mohabbatein 2000 devdas 2002 bride prejudice 2004 dhoom 2 2006 guru 2007 jodhaa akbar 2008 the pink panther 2 2009 raavan and guzaarish in 2010. the star took a break from acting only to return to the big screen with films like sarbjit 2016 ae dil hai mushkil 2016 and fanney khan 2018 . it s no surprise that each time rai bachchan steps out fashion lovers take note of the actor s choice. no stranger to the international red carpets the star has been a regular at cannes favouring slinky cocktail dresses trailing gowns and saris. for her debut appearance the actor chose saris in bold colours cue the 2003 neeta lulla number and then moved on to luxe satin and beaded gowns. in 2007 the newly wed posed on the red carpet with husband abhishek bachchan which made headlines. over the years she has supported indian designers like sabyasachi and abu jani sandeep khosla. her other notable sartorial choices have been looks by designer labels elie saab gucci oscar de la renta armani priv ralph russo. her ice blue full skirted number by michael cinco seen at cannes 2017 was one of the most sought after looks. back home she prefers traditional choices of elaborate anarkalis and lehengas for family functions diwali parties and award shows. lately rai bachchan has been colour coordinating with her daughter aaradhya most notably in pink dresses at the latter s birthday party in two years ago and at this year s cannes film festival in bright yellow. if you are keeping track of the staples in rai bachchan s wardrobe you ll find long indian jackets over anarkalis skinny pants blazer combos at the airport and bold lehengas for weddings. however when rai bachchan does decide to make a statement she ensures the world takes note. as her stylist aastha sharma spoke in a recent interview aishwarya has her own personality she has been an icon for years she is always appropriately dressed so it s very easy for me as a stylist. back home she favours indian designers on the red carpet we go all out because she is representing a brand and herself it s almost a form of art. scroll ahead for our gallery of aishwarya rai bachchan s most memorable looks. aishwarya rai bachchan 1994 getty aishwarya rai bachchan 2002 getty aishwarya rai bachchan in neeta lulla 2003 getty aishwarya rai bachchan 2003 getty aishwarya rai bachchan 2003 getty aishwarya rai bachchan in neeta lulla 2004 getty aishwarya rai bachchan 2007 getty aishwarya rai bachchan 2007 getty aishwarya rai bachchan 2007 getty aishwarya rai bachchan 2009 getty aishwarya rai bachchan in roberto cavalli 2009 getty aishwarya rai bachchan in elie saab 2010 getty aishwarya rai bachchan in sabyasachi 2010 getty aishwarya rai bachchan in abu jani sandeep khosla 2012 getty aishwarya rai bachchan in gucci 2013 getty aishwarya rai bachchan in roberto cavalli 2014 getty aishwarya rai bachchan in sabyasachi 2015 getty aishwarya rai bachchan 2015 manav manglani aishwarya rai bachchan in elie saab 2016 getty aishwarya rai bachchan in rani kadi 2016 getty aishwarya rai bachchan 2016 viral bhayani aishwarya rai bachchan 2016 viral bhayani aishwarya rai bachchan 2016 viral bhayani aishwarya rai bachchan 2016 viral bhayani aishwarya rai bachchan 2016 viral bhayani aishwarya rai bachchan 2016 viral bhayani aishwarya rai bachchan 2016 viral bhayani aishwarya rai bachchan 2016 viral bhayani aishwarya rai bachchan 2017 getty aishwarya rai bachchan 2017 viral bhayani aishwarya rai bachchan 2017 viral bhayani aishwarya rai bachchan 2017 viral bhayani aishwarya rai bachchan 2017 viral bhayani aishwarya rai bachchan 2017 viral bhayani aishwarya rai bachchan 2017 viral bhayani aishwarya rai bachchan 2017 viral bhayani aishwarya rai bachchan 2017 viral bhayani aishwarya rai bachchan 2018 getty aishwarya rai bachchan 2018 viral bhayani aishwarya rai bachchan 2018 viral bhayani aishwarya rai bachchan 2018 viral bhayani aishwarya rai bachchan 2018 viral bhayani aishwarya rai bachchan 2018 viral bhayani aishwarya rai bachchan in masaba 2018 viral bhayani aishwarya rai bachchan 2018 viral bhayani aishwarya rai bachchan 2018 viral bhayani aishwarya rai bachchan 2018 viral bhayani aishwarya rai bachchan 2019 getty aishwarya rai bachchan 2019 getty aishwarya rai bachchan 2019 getty aishwarya rai bachchan in manish malhotra 2019 viral bhayani aishwarya rai bachchan 2019 viral bhayani aishwarya rai bachchan 2019 viral bhayani aishwarya rai bachchan in nedo 2019 instagram aishwaryaraibachchan arb aishwarya rai bachchan 2019 viral bhayani aishwarya rai bachchan 2019 instagram aishwaryaraibachchan arb what s new fashion culture living 2019 cond nast \n"
     ]
    }
   ],
   "source": [
    "print(specialCharRem[0][:])"
   ]
  },
  {
   "cell_type": "markdown",
   "metadata": {},
   "source": [
    "### Handling digits"
   ]
  },
  {
   "cell_type": "code",
   "execution_count": 33,
   "metadata": {},
   "outputs": [
    {
     "name": "stdout",
     "output_type": "stream",
     "text": [
      "21075\n"
     ]
    }
   ],
   "source": [
    "import nltk\n",
    "#nltk.download(\"all\")\n",
    "tokenList = []\n",
    "for i in specialCharRem:\n",
    "    tokens = nltk.tokenize.word_tokenize(i)\n",
    "    tokenList.append(tokens)\n",
    "    \n",
    "print(len(tokenList))"
   ]
  },
  {
   "cell_type": "code",
   "execution_count": 34,
   "metadata": {},
   "outputs": [],
   "source": [
    "import inflect\n",
    "p = inflect.engine()\n",
    "x = p.number_to_words(123)\n",
    "newTokens = []\n",
    "for i in tokenList:\n",
    "    for j in i:\n",
    "        try:\n",
    "            x = int(j)\n",
    "            newTokens.append(x)\n",
    "        except ValueError:\n",
    "            newTokens.append(j)\n",
    "        "
   ]
  },
  {
   "cell_type": "code",
   "execution_count": 35,
   "metadata": {},
   "outputs": [
    {
     "name": "stdout",
     "output_type": "stream",
     "text": [
      "5274749\n",
      "<class 'list'>\n"
     ]
    }
   ],
   "source": [
    "print(len(newTokens))\n",
    "print(type(newTokens))\n",
    "#print(newTokens)"
   ]
  },
  {
   "cell_type": "markdown",
   "metadata": {},
   "source": [
    "### Converting digits to words"
   ]
  },
  {
   "cell_type": "code",
   "execution_count": 36,
   "metadata": {},
   "outputs": [],
   "source": [
    "import inflect\n",
    "p = inflect.engine()"
   ]
  },
  {
   "cell_type": "code",
   "execution_count": 37,
   "metadata": {},
   "outputs": [],
   "source": [
    "for n, i in enumerate(newTokens):\n",
    "    if type(i) == int:\n",
    "        newTokens[n] = p.number_to_words(i)\n",
    "    \n"
   ]
  },
  {
   "cell_type": "code",
   "execution_count": 39,
   "metadata": {},
   "outputs": [
    {
     "name": "stdout",
     "output_type": "stream",
     "text": [
      "['evan', 'agostini', 'fashion', 'from', 'freshly', 'crowned', 'miss', 'world', 'to', 'seventeen', 'years', 'of', 'cannes', 'film', 'festival', 'we', 'chart', 'all', 'the', 'changes', 'in', 'aishwarya', 'rai', 'bachchan', 's', 'sartorial', 'journey', 'often', 'referred', 'to', 'as', 'one', 'of', 'the', 'most', 'beautiful', 'women', 'in', 'the', 'world', 'aishwarya', 'rai', 'bachchan', 'has', 'long', 'held', 'a', 'prime', 'position', 'under', 'the', 'spotlight', 'since', 'the', 'very', 'inception', 'of', 'her', 'career', '.', 'she', 'made', 'global', 'news', 'by', 'winning', 'the', 'miss', 'world', 'title', 'in', '1994.', 'till', 'date', 'those', 'who', 'grew', 'up', 'in', 'the', '90s', 'will', 'never', 'forget', 'the', 'image', 'of', 'rai', 'bachchan', 'ecstatic', 'holding', 'her', 'blue', 'crown', '.', 'following', 'which', 'the', 'actor', 'has', 'over', 'forty', 'bollywood', 'international', 'and', 'regional', 'movies', 'under', 'her', 'belt', '.', 'and', 'the', 'superstar', 's', 'seventeen', 'year', 'long', 'association', 'with', 'cannes', 'film', 'festival', 'comes', 'with', 'headline', 'making', 'sartorial', 'choices', 'every', 'year', '.', 'hits', 'misses', 'and', 'some', 'iconic', 'looks', 'we', 'track', 'aishwarya', 'rai', 'bachchan', 's', 'memorable', 'fashion', 'moments', '.', 'aishwarya', 'rai', 'bachchan', 'started', 'off', 'with', 'a', 'few', 'modelling', 'stints', 'but', 'made', 'her', 'big', 'silver', 'screen', 'debut', 'in', 'iruvar', 'one thousand, nine hundred and ninety-seven', '.', 'through', 'her', 'career', 'she', 'has', 'starred', 'in', 'notable', 'films', 'like', 'hum', 'dil', 'de', 'chuke', 'sanam', 'one thousand, nine hundred and ninety-nine', 'taal', 'one thousand, nine hundred and ninety-nine', 'mohabbatein', 'two thousand', 'devdas', 'two thousand and two', 'bride', 'prejudice', 'two thousand and four', 'dhoom', 'two', 'two thousand and six', 'guru', 'two thousand and seven', 'jodhaa', 'akbar', 'two thousand and eight', 'the', 'pink', 'panther', 'two', 'two thousand and nine', 'raavan', 'and', 'guzaarish', 'in', '2010.', 'the', 'star', 'took', 'a', 'break', 'from', 'acting', 'only', 'to', 'return', 'to', 'the', 'big', 'screen', 'with', 'films', 'like', 'sarbjit', 'two thousand and sixteen', 'ae', 'dil', 'hai', 'mushkil', 'two thousand and sixteen', 'and', 'fanney', 'khan', 'two thousand and eighteen', '.', 'it', 's', 'no', 'surprise', 'that', 'each', 'time', 'rai', 'bachchan', 'steps', 'out', 'fashion', 'lovers', 'take', 'note', 'of', 'the', 'actor', 's', 'choice', '.', 'no', 'stranger', 'to', 'the', 'international', 'red', 'carpets', 'the', 'star', 'has', 'been', 'a', 'regular', 'at', 'cannes', 'favouring', 'slinky', 'cocktail', 'dresses', 'trailing', 'gowns', 'and', 'saris', '.', 'for', 'her', 'debut', 'appearance', 'the', 'actor', 'chose', 'saris', 'in', 'bold', 'colours', 'cue', 'the', 'two thousand and three', 'neeta', 'lulla', 'number', 'and', 'then', 'moved', 'on', 'to', 'luxe', 'satin', 'and', 'beaded', 'gowns', '.', 'in', 'two thousand and seven', 'the', 'newly', 'wed', 'posed', 'on', 'the', 'red', 'carpet', 'with', 'husband', 'abhishek', 'bachchan', 'which', 'made', 'headlines', '.', 'over', 'the', 'years', 'she', 'has', 'supported', 'indian', 'designers', 'like', 'sabyasachi', 'and', 'abu', 'jani', 'sandeep', 'khosla', '.', 'her', 'other', 'notable', 'sartorial', 'choices', 'have', 'been', 'looks', 'by', 'designer', 'labels', 'elie', 'saab', 'gucci', 'oscar', 'de', 'la', 'renta', 'armani', 'priv', 'ralph', 'russo', '.', 'her', 'ice', 'blue', 'full', 'skirted', 'number', 'by', 'michael', 'cinco', 'seen', 'at', 'cannes', 'two thousand and seventeen', 'was', 'one', 'of', 'the', 'most', 'sought', 'after', 'looks', '.', 'back', 'home', 'she', 'prefers', 'traditional', 'choices', 'of', 'elaborate', 'anarkalis', 'and', 'lehengas', 'for', 'family', 'functions', 'diwali', 'parties', 'and', 'award', 'shows', '.', 'lately', 'rai', 'bachchan', 'has', 'been', 'colour', 'coordinating', 'with', 'her', 'daughter', 'aaradhya', 'most', 'notably', 'in', 'pink', 'dresses', 'at', 'the', 'latter', 's', 'birthday', 'party', 'in', 'two', 'years', 'ago', 'and', 'at', 'this', 'year', 's', 'cannes', 'film', 'festival', 'in', 'bright', 'yellow', '.', 'if', 'you', 'are', 'keeping', 'track', 'of', 'the', 'staples', 'in', 'rai', 'bachchan', 's', 'wardrobe', 'you', 'll', 'find', 'long', 'indian', 'jackets', 'over', 'anarkalis', 'skinny', 'pants', 'blazer', 'combos', 'at', 'the', 'airport', 'and', 'bold', 'lehengas', 'for', 'weddings', '.', 'however', 'when', 'rai', 'bachchan', 'does', 'decide', 'to', 'make', 'a', 'statement', 'she', 'ensures', 'the', 'world', 'takes', 'note', '.', 'as', 'her', 'stylist', 'aastha', 'sharma', 'spoke', 'in', 'a', 'recent', 'interview', 'aishwarya', 'has', 'her', 'own', 'personality', 'she', 'has', 'been', 'an', 'icon', 'for', 'years', 'she', 'is', 'always', 'appropriately', 'dressed', 'so', 'it', 's', 'very', 'easy', 'for', 'me', 'as', 'a', 'stylist', '.', 'back', 'home', 'she', 'favours', 'indian', 'designers', 'on', 'the', 'red', 'carpet', 'we', 'go', 'all', 'out', 'because', 'she', 'is', 'representing', 'a', 'brand', 'and', 'herself', 'it', 's', 'almost', 'a', 'form', 'of', 'art', '.', 'scroll', 'ahead', 'for', 'our', 'gallery', 'of', 'aishwarya', 'rai', 'bachchan', 's', 'most', 'memorable', 'looks', '.', 'aishwarya', 'rai', 'bachchan', 'one thousand, nine hundred and ninety-four', 'getty', 'aishwarya', 'rai', 'bachchan', 'two thousand and two', 'getty', 'aishwarya', 'rai', 'bachchan', 'in', 'neeta', 'lulla', 'two thousand and three', 'getty', 'aishwarya', 'rai', 'bachchan', 'two thousand and three', 'getty', 'aishwarya', 'rai', 'bachchan', 'two thousand and three', 'getty', 'aishwarya', 'rai', 'bachchan', 'in', 'neeta', 'lulla', 'two thousand and four', 'getty', 'aishwarya', 'rai', 'bachchan', 'two thousand and seven', 'getty', 'aishwarya', 'rai', 'bachchan', 'two thousand and seven', 'getty', 'aishwarya', 'rai', 'bachchan', 'two thousand and seven', 'getty', 'aishwarya', 'rai', 'bachchan', 'two thousand and nine', 'getty', 'aishwarya', 'rai', 'bachchan', 'in', 'roberto', 'cavalli', 'two thousand and nine', 'getty', 'aishwarya', 'rai', 'bachchan', 'in', 'elie', 'saab', 'two thousand and ten', 'getty', 'aishwarya', 'rai', 'bachchan', 'in', 'sabyasachi', 'two thousand and ten', 'getty', 'aishwarya', 'rai', 'bachchan', 'in', 'abu', 'jani', 'sandeep', 'khosla', 'two thousand and twelve', 'getty', 'aishwarya', 'rai', 'bachchan', 'in', 'gucci', 'two thousand and thirteen', 'getty', 'aishwarya', 'rai', 'bachchan', 'in', 'roberto', 'cavalli', 'two thousand and fourteen', 'getty', 'aishwarya', 'rai', 'bachchan', 'in', 'sabyasachi', 'two thousand and fifteen', 'getty', 'aishwarya', 'rai', 'bachchan', 'two thousand and fifteen', 'manav', 'manglani', 'aishwarya', 'rai', 'bachchan', 'in', 'elie', 'saab', 'two thousand and sixteen', 'getty', 'aishwarya', 'rai', 'bachchan', 'in', 'rani', 'kadi', 'two thousand and sixteen', 'getty', 'aishwarya', 'rai', 'bachchan', 'two thousand and sixteen', 'viral', 'bhayani', 'aishwarya', 'rai', 'bachchan', 'two thousand and sixteen', 'viral', 'bhayani', 'aishwarya', 'rai', 'bachchan', 'two thousand and sixteen', 'viral', 'bhayani', 'aishwarya', 'rai', 'bachchan', 'two thousand and sixteen', 'viral', 'bhayani', 'aishwarya', 'rai', 'bachchan', 'two thousand and sixteen', 'viral', 'bhayani', 'aishwarya', 'rai', 'bachchan', 'two thousand and sixteen', 'viral', 'bhayani', 'aishwarya', 'rai', 'bachchan', 'two thousand and sixteen', 'viral', 'bhayani', 'aishwarya', 'rai', 'bachchan', 'two thousand and sixteen', 'viral', 'bhayani', 'aishwarya', 'rai', 'bachchan', 'two thousand and seventeen', 'getty', 'aishwarya', 'rai', 'bachchan', 'two thousand and seventeen', 'viral', 'bhayani', 'aishwarya', 'rai', 'bachchan', 'two thousand and seventeen', 'viral', 'bhayani', 'aishwarya', 'rai', 'bachchan', 'two thousand and seventeen', 'viral', 'bhayani', 'aishwarya', 'rai', 'bachchan', 'two thousand and seventeen', 'viral', 'bhayani', 'aishwarya', 'rai', 'bachchan', 'two thousand and seventeen', 'viral', 'bhayani', 'aishwarya', 'rai', 'bachchan', 'two thousand and seventeen', 'viral', 'bhayani', 'aishwarya', 'rai', 'bachchan', 'two thousand and seventeen', 'viral', 'bhayani', 'aishwarya', 'rai', 'bachchan', 'two thousand and seventeen', 'viral', 'bhayani', 'aishwarya', 'rai', 'bachchan', 'two thousand and eighteen', 'getty', 'aishwarya', 'rai', 'bachchan', 'two thousand and eighteen', 'viral', 'bhayani', 'aishwarya', 'rai', 'bachchan', 'two thousand and eighteen', 'viral', 'bhayani', 'aishwarya', 'rai', 'bachchan', 'two thousand and eighteen', 'viral', 'bhayani', 'aishwarya', 'rai', 'bachchan', 'two thousand and eighteen', 'viral', 'bhayani', 'aishwarya', 'rai', 'bachchan', 'two thousand and eighteen', 'viral', 'bhayani', 'aishwarya', 'rai', 'bachchan', 'in', 'masaba', 'two thousand and eighteen', 'viral', 'bhayani', 'aishwarya', 'rai', 'bachchan', 'two thousand and eighteen', 'viral', 'bhayani', 'aishwarya', 'rai', 'bachchan', 'two thousand and eighteen', 'viral', 'bhayani', 'aishwarya', 'rai', 'bachchan', 'two thousand and eighteen', 'viral', 'bhayani', 'aishwarya', 'rai', 'bachchan', 'two thousand and nineteen', 'getty', 'aishwarya', 'rai', 'bachchan', 'two thousand and nineteen', 'getty', 'aishwarya', 'rai', 'bachchan', 'two thousand and nineteen', 'getty', 'aishwarya', 'rai', 'bachchan', 'in', 'manish', 'malhotra', 'two thousand and nineteen', 'viral', 'bhayani', 'aishwarya', 'rai', 'bachchan', 'two thousand and nineteen', 'viral', 'bhayani', 'aishwarya', 'rai', 'bachchan', 'two thousand and nineteen', 'viral', 'bhayani', 'aishwarya', 'rai', 'bachchan', 'in', 'nedo', 'two thousand and nineteen', 'instagram', 'aishwaryaraibachchan', 'arb', 'aishwarya', 'rai', 'bachchan', 'two thousand and nineteen', 'viral', 'bhayani', 'aishwarya', 'rai', 'bachchan', 'two thousand and nineteen', 'instagram', 'aishwaryaraibachchan', 'arb', 'what', 's', 'new', 'fashion', 'culture', 'living', 'two thousand and nineteen', 'cond', 'nast', 'instagram.com', 'mira.kapoor', 'fashion', 'from', 'deepika', 'padukone', 'and', 'to', 'katrina', 'kaif', 'to', 'kriti', 'sanon', 'everyone', 'is', 'crushing', 'on', 'this', 'style', 'of', 'six', 'yard', 'drape', '.', 'what', 'about', 'you', 'timeless', 'saris', 'to', 'hold', 'a', 'special', 'place', 'in', 'every', 'woman', 's', 'indian', 'ethnic', 'wardrobe', 'and', 'are', 'often', 'one', 'of', 'the', 'first', 'sartorial', 'picks', 'for', 'any', 'occasion', '.']\n"
     ]
    }
   ],
   "source": [
    "print(newTokens[:1000])"
   ]
  },
  {
   "cell_type": "code",
   "execution_count": null,
   "metadata": {},
   "outputs": [],
   "source": []
  }
 ],
 "metadata": {
  "kernelspec": {
   "display_name": "Python 3",
   "language": "python",
   "name": "python3"
  },
  "language_info": {
   "codemirror_mode": {
    "name": "ipython",
    "version": 3
   },
   "file_extension": ".py",
   "mimetype": "text/x-python",
   "name": "python",
   "nbconvert_exporter": "python",
   "pygments_lexer": "ipython3",
   "version": "3.6.8"
  }
 },
 "nbformat": 4,
 "nbformat_minor": 2
}
