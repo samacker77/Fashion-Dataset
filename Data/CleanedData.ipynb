{
 "cells": [
  {
   "cell_type": "code",
   "execution_count": 15,
   "metadata": {},
   "outputs": [],
   "source": [
    "import pandas as pd\n",
    "import numpy as np\n",
    "import re"
   ]
  },
  {
   "cell_type": "markdown",
   "metadata": {},
   "source": [
    "### Reading file and printing relevant information"
   ]
  },
  {
   "cell_type": "code",
   "execution_count": 16,
   "metadata": {},
   "outputs": [],
   "source": [
    "file = 'ALL_DATA.txt'"
   ]
  },
  {
   "cell_type": "code",
   "execution_count": 17,
   "metadata": {},
   "outputs": [
    {
     "name": "stdout",
     "output_type": "stream",
     "text": [
      "49331\n",
      "<class 'list'>\n",
      "['\"Original reporting and analysis you won\\'t find anywhere else. Original reporting and analysis you won\\'t find anywhere else. Join today for original reporting and analysis you won\\'t find anywhere else. Menswear - Spring 2020 Virgil Abloh’s latest proposition was a whiff of fresh air, showing that the idea of streetwear-as-fashion can indeed evolve into something new. Menswear - Spring 2020 Virgil Abloh’s latest proposition was a whiff of fresh air, showing that the idea of streetwear-as-fashion can indeed evolve into something new. PARIS, France — Is Virgil Abloh’s Off-White a lucrative schtick or cultural phenomenon? An exhibition of Abloh’s work, currently running at the Museum of Contemporary Art Chicago, manages to position him as a societal force. Shopping, the thing he propels his fans to go do, is now an experience just like music, film or art. No one understands that better than Abloh, who designed a new version of his Off-White x Nike Air Force 1 sneakers for the exhibition. Along with merchandise sold at the museum, Louis Vuitton — where he is creative director for menswear — and Nike both opened related pop-up stores nearby. The question, for a while, has been whether this prolific creator can keep making things fit to be displayed in a museum. If his latest menswear effort for Off-White is any indication, Abloh is perhaps capable of more than what the hedgers expect of him. The collection aimed to give throw-away plastic value, engineering it into knitwear, but also manipulating other materials — like organza graffitied by the artist Futura — to look like it. Over the past year, plastic has been positioned as a worst-case environmental offender, with fashion companies pledging to use recycled plastic only or to phase out its use of the material altogether. Abloh’s take is less reactionary. “It has unique properties, the same as anything else,” he said backstage, mentioning that he first began learning about plastic while a student at the University of Wisconsin, which boasts a big Environmental Studies department. “I never would have thought, when I was like, a sophomore, that the knowledge about environmental studies would be useful to my fashion [practise].” But Abloh’s experience as an American college student during Y2K played a far greater role in the collection than the materials he employed. His hacky-sack kids, in their knitted ponchos and bedazzled jeans in tacky stone washes —some haphazardly bleached — were the fashion-ised version of what one imagines an Environmental Studies major wearing circa 1998. In Paris right now, Patagonia logo t-shirts have surpassed the do-gooder label’s fleece in status, and Abloh re-appropriated this idea, too, showing hiking gear and tie-dyed tees tagged with embroidered boy-scout patches. (All that was missing was a hemp necklace.) He called the look “door-room derelict listening to Soundgarden and Blind Melon.” The floaty, generic women’s clothes, a part of the Futura collaboration, felt like an afterthought; an opportunity to stick Gigi Hadid on the runway. But for the men — and really, anyone who likes wearing pants and jackets — Abloh’s latest proposition was a whiff of fresh mountain air, showing that the idea of streetwear-as-fashion can indeed evolve into something new. He’ll remain the leader in the movement as long as he continues charging forward, even when he’s telling stories from his past. Get our Daily Digest and Fashion Week Briefing emails in your inbox every day. , your personal and professional details are incomplete. Please click below to complete your BoF profile Would you like to become a member of BoF’s community to enjoy unlimited complimentary access to our full content? For up-to-the minute access to fashion, follow BoF. LVMH Buys Tiffany in $16 Billion Deal The Direct-to-Consumer Reckoning How the Company Behind Uggs, Teva and Hoka Makes Ugly Brands Cool LVMH Reportedly Close to Buying Tiffany for $16.7 Billion How Temporary Pop-Ups Became a Permanent Strategy L Brands Has Three Months to Placate Activist Investor Barington The Battle for Collectable and Rare Fashion Heats Up LVMH’s Latest Brick-and-Mortar Bet How MAC Cosmetics Plans to Get Back on Top BoF VOICES Day 1: Fashion Confronts a Challenging Future How MAC Cosmetics Plans to Get Back on Top Urban Outfitters Sales Miss Expectations T.J.Maxx Owner TJX Buys Stake in Russian Retailer Familia A Little- Known Adviser Led the Kylie Jenner-Coty Deal Zalando Defends System of Ranking Staff Like Products The Battle for Collectable and Rare Fashion Heats Up Hans Ulrich Obrist: The Antidote to Globalisation Google\\'s Unveils Machine Learning Project, in Partnership with BoF Inside Iran\\'s Underground Fashion Industry Resale’s Growing Pains Inside Andy Warhol’s Factory The Direct-to-Consumer Reckoning How MAC Cosmetics Plans to Get Back on Top Urban Outfitters Sales Miss Expectations T.J.Maxx Owner TJX Buys Stake in Russian Retailer Familia A Little- Known Adviser Led the Kylie Jenner-Coty Deal Zalando Defends System of Ranking Staff Like Products The Battle for Collectable and Rare Fashion Heats Up Hans Ulrich Obrist: The Antidote to Globalisation Google\\'s Unveils Machine Learning Project, in Partnership with BoF Site Map © 2019 The Business of Fashion. All rights reserved. For more information read our Terms & Conditions and Privacy Policy.\\n', '\"\\n']\n"
     ]
    }
   ],
   "source": [
    "with open(file) as f:\n",
    "    text = f.readlines()\n",
    "print(len(text))\n",
    "print(type(text))\n",
    "print(text[:2])"
   ]
  },
  {
   "cell_type": "markdown",
   "metadata": {},
   "source": [
    "### Removing copyright symbols"
   ]
  },
  {
   "cell_type": "code",
   "execution_count": 18,
   "metadata": {},
   "outputs": [],
   "source": [
    "copyright = \"©\"\n",
    "copyClean = []\n",
    "for i in text:\n",
    "    text2 = re.sub(copyright,\"\",i)\n",
    "    copyClean.append(text2)"
   ]
  },
  {
   "cell_type": "markdown",
   "metadata": {},
   "source": [
    "### Copyright symbols removed"
   ]
  },
  {
   "cell_type": "code",
   "execution_count": 19,
   "metadata": {},
   "outputs": [
    {
     "name": "stdout",
     "output_type": "stream",
     "text": [
      "49331\n"
     ]
    }
   ],
   "source": [
    "print(len(copyClean))"
   ]
  },
  {
   "cell_type": "markdown",
   "metadata": {},
   "source": [
    "### Converting every token to lowercase"
   ]
  },
  {
   "cell_type": "code",
   "execution_count": 20,
   "metadata": {},
   "outputs": [],
   "source": [
    "dataLower = map(lambda x:x.lower(),copyClean)"
   ]
  },
  {
   "cell_type": "code",
   "execution_count": 21,
   "metadata": {},
   "outputs": [],
   "source": [
    "lowerCase = []\n",
    "for i in dataLower:\n",
    "    lowerCase.append(i)"
   ]
  },
  {
   "cell_type": "code",
   "execution_count": 22,
   "metadata": {},
   "outputs": [
    {
     "name": "stdout",
     "output_type": "stream",
     "text": [
      "49331\n",
      "\"\n",
      "\n",
      "<class 'list'>\n"
     ]
    }
   ],
   "source": [
    "print(len(lowerCase))\n",
    "print(lowerCase[1][:100])\n",
    "print(type(lowerCase))"
   ]
  },
  {
   "cell_type": "markdown",
   "metadata": {},
   "source": [
    "### Removing special characters"
   ]
  },
  {
   "cell_type": "code",
   "execution_count": 23,
   "metadata": {},
   "outputs": [],
   "source": [
    "specialCharRem = []\n",
    "for i in lowerCase:\n",
    "    specialChar = re.sub(r\"[^a-zA-Z0-9.]+\", ' ', i)\n",
    "    specialCharRem.append(specialChar)\n",
    "    \n"
   ]
  },
  {
   "cell_type": "code",
   "execution_count": 24,
   "metadata": {},
   "outputs": [
    {
     "name": "stdout",
     "output_type": "stream",
     "text": [
      "49331\n"
     ]
    }
   ],
   "source": [
    "print(len(specialCharRem))"
   ]
  },
  {
   "cell_type": "code",
   "execution_count": 25,
   "metadata": {},
   "outputs": [
    {
     "name": "stdout",
     "output_type": "stream",
     "text": [
      " original reporting and analysis you won t find anywhere else. original reporting and analysis you won t find anywhere else. join today for original reporting and analysis you won t find anywhere else. menswear spring 2020 virgil abloh s latest proposition was a whiff of fresh air showing that the idea of streetwear as fashion can indeed evolve into something new. menswear spring 2020 virgil abloh s latest proposition was a whiff of fresh air showing that the idea of streetwear as fashion can indeed evolve into something new. paris france is virgil abloh s off white a lucrative schtick or cultural phenomenon an exhibition of abloh s work currently running at the museum of contemporary art chicago manages to position him as a societal force. shopping the thing he propels his fans to go do is now an experience just like music film or art. no one understands that better than abloh who designed a new version of his off white x nike air force 1 sneakers for the exhibition. along with merchandise sold at the museum louis vuitton where he is creative director for menswear and nike both opened related pop up stores nearby. the question for a while has been whether this prolific creator can keep making things fit to be displayed in a museum. if his latest menswear effort for off white is any indication abloh is perhaps capable of more than what the hedgers expect of him. the collection aimed to give throw away plastic value engineering it into knitwear but also manipulating other materials like organza graffitied by the artist futura to look like it. over the past year plastic has been positioned as a worst case environmental offender with fashion companies pledging to use recycled plastic only or to phase out its use of the material altogether. abloh s take is less reactionary. it has unique properties the same as anything else he said backstage mentioning that he first began learning about plastic while a student at the university of wisconsin which boasts a big environmental studies department. i never would have thought when i was like a sophomore that the knowledge about environmental studies would be useful to my fashion practise . but abloh s experience as an american college student during y2k played a far greater role in the collection than the materials he employed. his hacky sack kids in their knitted ponchos and bedazzled jeans in tacky stone washes some haphazardly bleached were the fashion ised version of what one imagines an environmental studies major wearing circa 1998. in paris right now patagonia logo t shirts have surpassed the do gooder label s fleece in status and abloh re appropriated this idea too showing hiking gear and tie dyed tees tagged with embroidered boy scout patches. all that was missing was a hemp necklace. he called the look door room derelict listening to soundgarden and blind melon. the floaty generic women s clothes a part of the futura collaboration felt like an afterthought an opportunity to stick gigi hadid on the runway. but for the men and really anyone who likes wearing pants and jackets abloh s latest proposition was a whiff of fresh mountain air showing that the idea of streetwear as fashion can indeed evolve into something new. he ll remain the leader in the movement as long as he continues charging forward even when he s telling stories from his past. get our daily digest and fashion week briefing emails in your inbox every day. your personal and professional details are incomplete. please click below to complete your bof profile would you like to become a member of bof s community to enjoy unlimited complimentary access to our full content for up to the minute access to fashion follow bof. lvmh buys tiffany in 16 billion deal the direct to consumer reckoning how the company behind uggs teva and hoka makes ugly brands cool lvmh reportedly close to buying tiffany for 16.7 billion how temporary pop ups became a permanent strategy l brands has three months to placate activist investor barington the battle for collectable and rare fashion heats up lvmh s latest brick and mortar bet how mac cosmetics plans to get back on top bof voices day 1 fashion confronts a challenging future how mac cosmetics plans to get back on top urban outfitters sales miss expectations t.j.maxx owner tjx buys stake in russian retailer familia a little known adviser led the kylie jenner coty deal zalando defends system of ranking staff like products the battle for collectable and rare fashion heats up hans ulrich obrist the antidote to globalisation google s unveils machine learning project in partnership with bof inside iran s underground fashion industry resale s growing pains inside andy warhol s factory the direct to consumer reckoning how mac cosmetics plans to get back on top urban outfitters sales miss expectations t.j.maxx owner tjx buys stake in russian retailer familia a little known adviser led the kylie jenner coty deal zalando defends system of ranking staff like products the battle for collectable and rare fashion heats up hans ulrich obrist the antidote to globalisation google s unveils machine learning project in partnership with bof site map 2019 the business of fashion. all rights reserved. for more information read our terms conditions and privacy policy. \n"
     ]
    }
   ],
   "source": [
    "print(specialCharRem[0][:])"
   ]
  },
  {
   "cell_type": "markdown",
   "metadata": {},
   "source": [
    "### Handling digits"
   ]
  },
  {
   "cell_type": "code",
   "execution_count": 26,
   "metadata": {},
   "outputs": [
    {
     "name": "stdout",
     "output_type": "stream",
     "text": [
      "49331\n"
     ]
    }
   ],
   "source": [
    "import nltk\n",
    "#nltk.download(\"all\")\n",
    "tokenList = []\n",
    "for i in specialCharRem:\n",
    "    tokens = nltk.tokenize.word_tokenize(i)\n",
    "    tokenList.append(tokens)\n",
    "    \n",
    "print(len(tokenList))"
   ]
  },
  {
   "cell_type": "code",
   "execution_count": 27,
   "metadata": {},
   "outputs": [],
   "source": [
    "import inflect\n",
    "p = inflect.engine()\n",
    "x = p.number_to_words(123)\n",
    "newTokens = []\n",
    "for i in tokenList:\n",
    "    for j in i:\n",
    "        try:\n",
    "            x = int(j)\n",
    "            newTokens.append(x)\n",
    "        except ValueError:\n",
    "            newTokens.append(j)\n",
    "        "
   ]
  },
  {
   "cell_type": "code",
   "execution_count": 28,
   "metadata": {},
   "outputs": [
    {
     "name": "stdout",
     "output_type": "stream",
     "text": [
      "10629143\n",
      "<class 'list'>\n"
     ]
    }
   ],
   "source": [
    "print(len(newTokens))\n",
    "print(type(newTokens))\n",
    "#print(newTokens)"
   ]
  },
  {
   "cell_type": "markdown",
   "metadata": {},
   "source": [
    "### Converting digits to words"
   ]
  },
  {
   "cell_type": "code",
   "execution_count": 29,
   "metadata": {},
   "outputs": [],
   "source": [
    "import inflect\n",
    "p = inflect.engine()"
   ]
  },
  {
   "cell_type": "code",
   "execution_count": 30,
   "metadata": {},
   "outputs": [],
   "source": [
    "for n, i in enumerate(newTokens):\n",
    "    if type(i) == int:\n",
    "        newTokens[n] = p.number_to_words(i)\n",
    "    \n"
   ]
  },
  {
   "cell_type": "code",
   "execution_count": 31,
   "metadata": {},
   "outputs": [
    {
     "name": "stdout",
     "output_type": "stream",
     "text": [
      "['original', 'reporting', 'and', 'analysis', 'you', 'won', 't', 'find', 'anywhere', 'else', '.', 'original', 'reporting', 'and', 'analysis', 'you', 'won', 't', 'find', 'anywhere', 'else', '.', 'join', 'today', 'for', 'original', 'reporting', 'and', 'analysis', 'you', 'won', 't', 'find', 'anywhere', 'else', '.', 'menswear', 'spring', 'two thousand and twenty', 'virgil', 'abloh', 's', 'latest', 'proposition', 'was', 'a', 'whiff', 'of', 'fresh', 'air', 'showing', 'that', 'the', 'idea', 'of', 'streetwear', 'as', 'fashion', 'can', 'indeed', 'evolve', 'into', 'something', 'new', '.', 'menswear', 'spring', 'two thousand and twenty', 'virgil', 'abloh', 's', 'latest', 'proposition', 'was', 'a', 'whiff', 'of', 'fresh', 'air', 'showing', 'that', 'the', 'idea', 'of', 'streetwear', 'as', 'fashion', 'can', 'indeed', 'evolve', 'into', 'something', 'new', '.', 'paris', 'france', 'is', 'virgil', 'abloh', 's', 'off', 'white', 'a', 'lucrative', 'schtick', 'or', 'cultural', 'phenomenon', 'an', 'exhibition', 'of', 'abloh', 's', 'work', 'currently', 'running', 'at', 'the', 'museum', 'of', 'contemporary', 'art', 'chicago', 'manages', 'to', 'position', 'him', 'as', 'a', 'societal', 'force', '.', 'shopping', 'the', 'thing', 'he', 'propels', 'his', 'fans', 'to', 'go', 'do', 'is', 'now', 'an', 'experience', 'just', 'like', 'music', 'film', 'or', 'art', '.', 'no', 'one', 'understands', 'that', 'better', 'than', 'abloh', 'who', 'designed', 'a', 'new', 'version', 'of', 'his', 'off', 'white', 'x', 'nike', 'air', 'force', 'one', 'sneakers', 'for', 'the', 'exhibition', '.', 'along', 'with', 'merchandise', 'sold', 'at', 'the', 'museum', 'louis', 'vuitton', 'where', 'he', 'is', 'creative', 'director', 'for', 'menswear', 'and', 'nike', 'both', 'opened', 'related', 'pop', 'up', 'stores', 'nearby', '.', 'the', 'question', 'for', 'a', 'while', 'has', 'been', 'whether', 'this', 'prolific', 'creator', 'can', 'keep', 'making', 'things', 'fit', 'to', 'be', 'displayed', 'in', 'a', 'museum', '.', 'if', 'his', 'latest', 'menswear', 'effort', 'for', 'off', 'white', 'is', 'any', 'indication', 'abloh', 'is', 'perhaps', 'capable', 'of', 'more', 'than', 'what', 'the', 'hedgers', 'expect', 'of', 'him', '.', 'the', 'collection', 'aimed', 'to', 'give', 'throw', 'away', 'plastic', 'value', 'engineering', 'it', 'into', 'knitwear', 'but', 'also', 'manipulating', 'other', 'materials', 'like', 'organza', 'graffitied', 'by', 'the', 'artist', 'futura', 'to', 'look', 'like', 'it', '.', 'over', 'the', 'past', 'year', 'plastic', 'has', 'been', 'positioned', 'as', 'a', 'worst', 'case', 'environmental', 'offender', 'with', 'fashion', 'companies', 'pledging', 'to', 'use', 'recycled', 'plastic', 'only', 'or', 'to', 'phase', 'out', 'its', 'use', 'of', 'the', 'material', 'altogether', '.', 'abloh', 's', 'take', 'is', 'less', 'reactionary', '.', 'it', 'has', 'unique', 'properties', 'the', 'same', 'as', 'anything', 'else', 'he', 'said', 'backstage', 'mentioning', 'that', 'he', 'first', 'began', 'learning', 'about', 'plastic', 'while', 'a', 'student', 'at', 'the', 'university', 'of', 'wisconsin', 'which', 'boasts', 'a', 'big', 'environmental', 'studies', 'department', '.', 'i', 'never', 'would', 'have', 'thought', 'when', 'i', 'was', 'like', 'a', 'sophomore', 'that', 'the', 'knowledge', 'about', 'environmental', 'studies', 'would', 'be', 'useful', 'to', 'my', 'fashion', 'practise', '.', 'but', 'abloh', 's', 'experience', 'as', 'an', 'american', 'college', 'student', 'during', 'y2k', 'played', 'a', 'far', 'greater', 'role', 'in', 'the', 'collection', 'than', 'the', 'materials', 'he', 'employed', '.', 'his', 'hacky', 'sack', 'kids', 'in', 'their', 'knitted', 'ponchos', 'and', 'bedazzled', 'jeans', 'in', 'tacky', 'stone', 'washes', 'some', 'haphazardly', 'bleached', 'were', 'the', 'fashion', 'ised', 'version', 'of', 'what', 'one', 'imagines', 'an', 'environmental', 'studies', 'major', 'wearing', 'circa', '1998.', 'in', 'paris', 'right', 'now', 'patagonia', 'logo', 't', 'shirts', 'have', 'surpassed', 'the', 'do', 'gooder', 'label', 's', 'fleece', 'in', 'status', 'and', 'abloh', 're', 'appropriated', 'this', 'idea', 'too', 'showing', 'hiking', 'gear', 'and', 'tie', 'dyed', 'tees', 'tagged', 'with', 'embroidered', 'boy', 'scout', 'patches', '.', 'all', 'that', 'was', 'missing', 'was', 'a', 'hemp', 'necklace', '.', 'he', 'called', 'the', 'look', 'door', 'room', 'derelict', 'listening', 'to', 'soundgarden', 'and', 'blind', 'melon', '.', 'the', 'floaty', 'generic', 'women', 's', 'clothes', 'a', 'part', 'of', 'the', 'futura', 'collaboration', 'felt', 'like', 'an', 'afterthought', 'an', 'opportunity', 'to', 'stick', 'gigi', 'hadid', 'on', 'the', 'runway', '.', 'but', 'for', 'the', 'men', 'and', 'really', 'anyone', 'who', 'likes', 'wearing', 'pants', 'and', 'jackets', 'abloh', 's', 'latest', 'proposition', 'was', 'a', 'whiff', 'of', 'fresh', 'mountain', 'air', 'showing', 'that', 'the', 'idea', 'of', 'streetwear', 'as', 'fashion', 'can', 'indeed', 'evolve', 'into', 'something', 'new', '.', 'he', 'll', 'remain', 'the', 'leader', 'in', 'the', 'movement', 'as', 'long', 'as', 'he', 'continues', 'charging', 'forward', 'even', 'when', 'he', 's', 'telling', 'stories', 'from', 'his', 'past', '.', 'get', 'our', 'daily', 'digest', 'and', 'fashion', 'week', 'briefing', 'emails', 'in', 'your', 'inbox', 'every', 'day', '.', 'your', 'personal', 'and', 'professional', 'details', 'are', 'incomplete', '.', 'please', 'click', 'below', 'to', 'complete', 'your', 'bof', 'profile', 'would', 'you', 'like', 'to', 'become', 'a', 'member', 'of', 'bof', 's', 'community', 'to', 'enjoy', 'unlimited', 'complimentary', 'access', 'to', 'our', 'full', 'content', 'for', 'up', 'to', 'the', 'minute', 'access', 'to', 'fashion', 'follow', 'bof', '.', 'lvmh', 'buys', 'tiffany', 'in', 'sixteen', 'billion', 'deal', 'the', 'direct', 'to', 'consumer', 'reckoning', 'how', 'the', 'company', 'behind', 'uggs', 'teva', 'and', 'hoka', 'makes', 'ugly', 'brands', 'cool', 'lvmh', 'reportedly', 'close', 'to', 'buying', 'tiffany', 'for', '16.7', 'billion', 'how', 'temporary', 'pop', 'ups', 'became', 'a', 'permanent', 'strategy', 'l', 'brands', 'has', 'three', 'months', 'to', 'placate', 'activist', 'investor', 'barington', 'the', 'battle', 'for', 'collectable', 'and', 'rare', 'fashion', 'heats', 'up', 'lvmh', 's', 'latest', 'brick', 'and', 'mortar', 'bet', 'how', 'mac', 'cosmetics', 'plans', 'to', 'get', 'back', 'on', 'top', 'bof', 'voices', 'day', 'one', 'fashion', 'confronts', 'a', 'challenging', 'future', 'how', 'mac', 'cosmetics', 'plans', 'to', 'get', 'back', 'on', 'top', 'urban', 'outfitters', 'sales', 'miss', 'expectations', 't.j.maxx', 'owner', 'tjx', 'buys', 'stake', 'in', 'russian', 'retailer', 'familia', 'a', 'little', 'known', 'adviser', 'led', 'the', 'kylie', 'jenner', 'coty', 'deal', 'zalando', 'defends', 'system', 'of', 'ranking', 'staff', 'like', 'products', 'the', 'battle', 'for', 'collectable', 'and', 'rare', 'fashion', 'heats', 'up', 'hans', 'ulrich', 'obrist', 'the', 'antidote', 'to', 'globalisation', 'google', 's', 'unveils', 'machine', 'learning', 'project', 'in', 'partnership', 'with', 'bof', 'inside', 'iran', 's', 'underground', 'fashion', 'industry', 'resale', 's', 'growing', 'pains', 'inside', 'andy', 'warhol', 's', 'factory', 'the', 'direct', 'to', 'consumer', 'reckoning', 'how', 'mac', 'cosmetics', 'plans', 'to', 'get', 'back', 'on', 'top', 'urban', 'outfitters', 'sales', 'miss', 'expectations', 't.j.maxx', 'owner', 'tjx', 'buys', 'stake', 'in', 'russian', 'retailer', 'familia', 'a', 'little', 'known', 'adviser', 'led', 'the', 'kylie', 'jenner', 'coty', 'deal', 'zalando', 'defends', 'system', 'of', 'ranking', 'staff', 'like', 'products', 'the', 'battle', 'for', 'collectable', 'and', 'rare', 'fashion', 'heats', 'up', 'hans', 'ulrich', 'obrist', 'the', 'antidote', 'to', 'globalisation', 'google', 's', 'unveils', 'machine', 'learning', 'project', 'in', 'partnership', 'with', 'bof', 'site', 'map', 'two thousand and nineteen', 'the', 'business', 'of', 'fashion', '.', 'all', 'rights', 'reserved', '.', 'for', 'more', 'information', 'read', 'our', 'terms', 'conditions', 'and', 'privacy', 'policy', '.', 'original', 'reporting', 'and', 'analysis', 'you', 'won', 't', 'find', 'anywhere', 'else', '.', 'original', 'reporting', 'and', 'analysis', 'you', 'won', 't', 'find', 'anywhere', 'else', '.', 'join', 'today', 'for', 'original', 'reporting', 'and', 'analysis', 'you', 'won', 't', 'find', 'anywhere', 'else', '.', 'ready', 'to', 'wear', 'spring', 'two thousand and eighteen', 'if', 'the', 'collection', 's', 'archness', 'was', 'distancing', 'it', 'struck', 'one', 'genuine', 'chord', 'with', 'the', 'designer', 's', 'tribute', 'to', 'soon', 'to', 'close', 'colette', '.', 'ready', 'to', 'wear', 'spring', 'two thousand and eighteen', 'if', 'the', 'collection', 's', 'archness', 'was', 'distancing', 'it', 'struck', 'one', 'genuine']\n"
     ]
    }
   ],
   "source": [
    "print(newTokens[:1000])"
   ]
  },
  {
   "cell_type": "code",
   "execution_count": null,
   "metadata": {},
   "outputs": [],
   "source": []
  }
 ],
 "metadata": {
  "kernelspec": {
   "display_name": "Python 3",
   "language": "python",
   "name": "python3"
  },
  "language_info": {
   "codemirror_mode": {
    "name": "ipython",
    "version": 3
   },
   "file_extension": ".py",
   "mimetype": "text/x-python",
   "name": "python",
   "nbconvert_exporter": "python",
   "pygments_lexer": "ipython3",
   "version": "3.6.8"
  }
 },
 "nbformat": 4,
 "nbformat_minor": 2
}
